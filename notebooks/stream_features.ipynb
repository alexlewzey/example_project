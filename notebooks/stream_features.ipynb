{
 "cells": [
  {
   "cell_type": "code",
   "execution_count": 16,
   "metadata": {},
   "outputs": [
    {
     "name": "stdout",
     "output_type": "stream",
     "text": [
      "     sepal_length  sepal_width  petal_length  petal_width           class\n",
      "127           6.1          3.0           4.9          1.8  Iris-virginica\n",
      "    sepal_length  sepal_width  petal_length  petal_width        class\n",
      "34           4.9          3.1           1.5          0.1  Iris-setosa\n",
      "    sepal_length  sepal_width  petal_length  petal_width        class\n",
      "18           5.7          3.8           1.7          0.3  Iris-setosa\n",
      "    sepal_length  sepal_width  petal_length  petal_width        class\n",
      "46           5.1          3.8           1.6          0.2  Iris-setosa\n",
      "     sepal_length  sepal_width  petal_length  petal_width           class\n",
      "108           6.7          2.5           5.8          1.8  Iris-virginica\n",
      "     sepal_length  sepal_width  petal_length  petal_width           class\n",
      "135           7.7          3.0           6.1          2.3  Iris-virginica\n"
     ]
    },
    {
     "ename": "KeyboardInterrupt",
     "evalue": "",
     "output_type": "error",
     "traceback": [
      "\u001b[0;31m---------------------------------------------------------------------------\u001b[0m",
      "\u001b[0;31mKeyboardInterrupt\u001b[0m                         Traceback (most recent call last)",
      "\u001b[1;32m/Users/alexlewzey/repository/example_project/notebooks/data_stream.ipynb Cell 1\u001b[0m line \u001b[0;36m2\n\u001b[1;32m     <a href='vscode-notebook-cell:/Users/alexlewzey/repository/example_project/notebooks/data_stream.ipynb#W0sZmlsZQ%3D%3D?line=19'>20</a>\u001b[0m \u001b[39mprint\u001b[39m(random_row)\n\u001b[1;32m     <a href='vscode-notebook-cell:/Users/alexlewzey/repository/example_project/notebooks/data_stream.ipynb#W0sZmlsZQ%3D%3D?line=21'>22</a>\u001b[0m \u001b[39m# Wait for 10 seconds before the next iteration\u001b[39;00m\n\u001b[0;32m---> <a href='vscode-notebook-cell:/Users/alexlewzey/repository/example_project/notebooks/data_stream.ipynb#W0sZmlsZQ%3D%3D?line=22'>23</a>\u001b[0m time\u001b[39m.\u001b[39;49msleep(\u001b[39m5\u001b[39;49m \u001b[39m+\u001b[39;49m (random\u001b[39m.\u001b[39;49mrandom() \u001b[39m*\u001b[39;49m \u001b[39m2\u001b[39;49m))\n",
      "\u001b[0;31mKeyboardInterrupt\u001b[0m: "
     ]
    }
   ],
   "source": [
    "import pandas as pd\n",
    "import random\n",
    "import time\n",
    "\n",
    "df = pd.read_csv('https://archive.ics.uci.edu/ml/machine-learning-databases/iris/iris.data', \n",
    "                        header=None, names=['sepal_length', 'sepal_width', 'petal_length', 'petal_width', 'class'])\n",
    "\n",
    "def generate_random_row():\n",
    "    random_row = df.sample(n=1)\n",
    "    return random_row\n",
    "\n",
    "if __name__ == \"__main__\":\n",
    "    while True:\n",
    "        random_row = generate_random_row()\n",
    "        print(random_row)\n",
    "        time.sleep(3 + (random.random() * 2))"
   ]
  }
 ],
 "metadata": {
  "kernelspec": {
   "display_name": "base",
   "language": "python",
   "name": "python3"
  },
  "language_info": {
   "codemirror_mode": {
    "name": "ipython",
    "version": 3
   },
   "file_extension": ".py",
   "mimetype": "text/x-python",
   "name": "python",
   "nbconvert_exporter": "python",
   "pygments_lexer": "ipython3",
   "version": "3.10.9"
  }
 },
 "nbformat": 4,
 "nbformat_minor": 2
}
