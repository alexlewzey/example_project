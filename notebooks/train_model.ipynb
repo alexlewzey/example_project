{
 "cells": [
  {
   "cell_type": "code",
   "execution_count": 1,
   "metadata": {},
   "outputs": [],
   "source": [
    "from sklearn.ensemble import RandomForestClassifier\n",
    "from sklearn.model_selection import train_test_split\n",
    "from sklearn.metrics import accuracy_score\n",
    "import boto3\n",
    "import io\n",
    "import pandas as pd\n",
    "from settings import *\n",
    "import joblib\n",
    "from awstk import *\n",
    "\n",
    "s3_client = boto3.client('s3', **credentials)\n",
    "\n",
    "body = s3_client.get_object(Bucket=bucket_name, Key=iris_data_key)['Body']\n",
    "buffer = io.BytesIO(body.read())\n",
    "df = pd.read_parquet(buffer)\n"
   ]
  },
  {
   "cell_type": "code",
   "execution_count": 2,
   "metadata": {},
   "outputs": [],
   "source": [
    "x = df.iloc[:,:4]\n",
    "y = df.iloc[:,-1:]\n",
    "assert len(df.columns) == len(x.columns) + len(y.columns)"
   ]
  },
  {
   "cell_type": "code",
   "execution_count": 3,
   "metadata": {},
   "outputs": [
    {
     "name": "stdout",
     "output_type": "stream",
     "text": [
      "accuracy=1.0\n"
     ]
    },
    {
     "name": "stderr",
     "output_type": "stream",
     "text": [
      "/Users/alexlewzey/repository/example_project/.venv/lib/python3.10/site-packages/sklearn/base.py:1152: DataConversionWarning: A column-vector y was passed when a 1d array was expected. Please change the shape of y to (n_samples,), for example using ravel().\n",
      "  return fit_method(estimator, *args, **kwargs)\n"
     ]
    }
   ],
   "source": [
    "x_train, x_test, y_train, y_test = train_test_split(x, y, test_size=0.2, random_state=42)\n",
    "\n",
    "rf_classifier = RandomForestClassifier(n_estimators=100, random_state=42, n_jobs=-1)\n",
    "rf_classifier.fit(x_train, y_train)\n",
    "y_pred = rf_classifier.predict(x_test)\n",
    "\n",
    "accuracy = accuracy_score(y_test, y_pred)\n",
    "print(f'accuracy={accuracy}')\n",
    "assert accuracy > 0.7"
   ]
  },
  {
   "cell_type": "code",
   "execution_count": 4,
   "metadata": {},
   "outputs": [],
   "source": [
    "buffer = io.BytesIO()\n",
    "joblib.dump(rf_classifier, buffer)\n",
    "buffer.seek(0)\n",
    "response = s3_client.put_object(Body=buffer, Bucket=bucket_name, Key=model_key)\n",
    "assert_response_eq_200(response)"
   ]
  },
  {
   "cell_type": "code",
   "execution_count": 6,
   "metadata": {},
   "outputs": [],
   "source": [
    "body = s3_client.get_object(Bucket=bucket_name, Key=model_key)['Body']\n",
    "rf_classifier_test = joblib.load(io.BytesIO(body.read()))\n",
    "assert hasattr(rf_classifier_test, 'classes_')\n",
    "assert isinstance(rf_classifier_test, RandomForestClassifier)"
   ]
  }
 ],
 "metadata": {
  "kernelspec": {
   "display_name": "base",
   "language": "python",
   "name": "python3"
  },
  "language_info": {
   "codemirror_mode": {
    "name": "ipython",
    "version": 3
   },
   "file_extension": ".py",
   "mimetype": "text/x-python",
   "name": "python",
   "nbconvert_exporter": "python",
   "pygments_lexer": "ipython3",
   "version": "3.10.9"
  }
 },
 "nbformat": 4,
 "nbformat_minor": 2
}
