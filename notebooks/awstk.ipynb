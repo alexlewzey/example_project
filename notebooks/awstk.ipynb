{
 "cells": [
  {
   "cell_type": "code",
   "execution_count": 1,
   "metadata": {},
   "outputs": [],
   "source": [
    "import boto3\n",
    "import os\n",
    "\n",
    "aws_access_key_id = os.environ['AWS_ACCESS_KEY_ID']\n",
    "aws_secret_access_key = os.environ['AWS_SECRET_ACCESS_KEY']\n",
    "aws_region = os.environ['AWS_REGION']\n",
    "\n",
    "client = boto3.client('lambda', region_name=aws_region, aws_access_key_id=aws_access_key_id, aws_secret_access_key=aws_secret_access_key)"
   ]
  },
  {
   "cell_type": "code",
   "execution_count": 3,
   "metadata": {},
   "outputs": [],
   "source": [
    "fs = client.list_functions()['Functions']"
   ]
  },
  {
   "cell_type": "code",
   "execution_count": 4,
   "metadata": {},
   "outputs": [
    {
     "data": {
      "text/plain": [
       "2"
      ]
     },
     "execution_count": 4,
     "metadata": {},
     "output_type": "execute_result"
    }
   ],
   "source": [
    "len(fs)"
   ]
  },
  {
   "cell_type": "markdown",
   "metadata": {},
   "source": [
    "### Inspecting roles and policies"
   ]
  },
  {
   "cell_type": "code",
   "execution_count": null,
   "metadata": {},
   "outputs": [
    {
     "name": "stdout",
     "output_type": "stream",
     "text": [
      "{'Arn': 'arn:aws:iam::723085979813:role/HelloWorldLambdaRole',\n",
      " 'AssumeRolePolicyDocument': {'Statement': [{'Action': 'sts:AssumeRole',\n",
      "                                             'Effect': 'Allow',\n",
      "                                             'Principal': {'Service': 'lambda.amazonaws.com'}}],\n",
      "                              'Version': '2012-10-17'},\n",
      " 'CreateDate': datetime.datetime(2023, 12, 3, 11, 6, 13, tzinfo=tzutc()),\n",
      " 'MaxSessionDuration': 3600,\n",
      " 'Path': '/',\n",
      " 'RoleId': 'AROA2QW2IOCSYACZEWHBW',\n",
      " 'RoleLastUsed': {'LastUsedDate': datetime.datetime(2023, 12, 3, 11, 14, 14, tzinfo=tzutc()),\n",
      "                  'Region': 'us-east-1'},\n",
      " 'RoleName': 'HelloWorldLambdaRole'}\n"
     ]
    }
   ],
   "source": [
    "role_arn = role_response['Role']['Arn']\n",
    "role = iam_client.get_role(RoleName=role_name)['Role']\n",
    "pprint(role)"
   ]
  },
  {
   "cell_type": "code",
   "execution_count": null,
   "metadata": {},
   "outputs": [
    {
     "name": "stdout",
     "output_type": "stream",
     "text": [
      "[{'PolicyArn': 'arn:aws:iam::aws:policy/service-role/AWSLambdaBasicExecutionRole',\n",
      "  'PolicyName': 'AWSLambdaBasicExecutionRole'}]\n"
     ]
    }
   ],
   "source": [
    "policies = iam_client.list_attached_role_policies(RoleName=role_name)['AttachedPolicies']\n",
    "pprint(policies)"
   ]
  },
  {
   "cell_type": "code",
   "execution_count": null,
   "metadata": {},
   "outputs": [
    {
     "name": "stdout",
     "output_type": "stream",
     "text": [
      "{'Arn': 'arn:aws:iam::aws:policy/service-role/AWSLambdaBasicExecutionRole',\n",
      " 'AttachmentCount': 1,\n",
      " 'CreateDate': datetime.datetime(2015, 4, 9, 15, 3, 43, tzinfo=tzutc()),\n",
      " 'DefaultVersionId': 'v1',\n",
      " 'Description': 'Provides write permissions to CloudWatch Logs.',\n",
      " 'IsAttachable': True,\n",
      " 'Path': '/service-role/',\n",
      " 'PermissionsBoundaryUsageCount': 0,\n",
      " 'PolicyId': 'ANPAJNCQGXC42545SKXIK',\n",
      " 'PolicyName': 'AWSLambdaBasicExecutionRole',\n",
      " 'Tags': [],\n",
      " 'UpdateDate': datetime.datetime(2015, 4, 9, 15, 3, 43, tzinfo=tzutc())}\n"
     ]
    }
   ],
   "source": [
    "policy = iam_client.get_policy(PolicyArn='arn:aws:iam::aws:policy/service-role/AWSLambdaBasicExecutionRole')['Policy']\n",
    "pprint(policy)"
   ]
  },
  {
   "cell_type": "markdown",
   "metadata": {},
   "source": [
    "### Delete all resources"
   ]
  },
  {
   "cell_type": "code",
   "execution_count": null,
   "metadata": {},
   "outputs": [],
   "source": [
    "for d in scheduler_client.list_schedules()['Schedules']:\n",
    "    scheduler_client.delete_schedule(Name=d['Name'])\n",
    "\n",
    "for d in lambda_client.list_functions()['Functions']:\n",
    "    lambda_client.delete_function(FunctionName=d['FunctionName'])\n",
    "\n",
    "for d in iam_client.list_policies(Scope='Local')['Policies']:\n",
    "    iam_client.delete_policy(PolicyArn=d['Arn'])\n",
    "    print(f'Deleted: {d[\"PolicyName\"]}')\n",
    "    \n",
    "for d in iam_client.list_roles()['Roles']:\n",
    "    try:\n",
    "        iam_client.delete_role(RoleName=d['RoleName'])\n",
    "        print(f'Deleted: {d[\"RoleName\"]}')\n",
    "    except ClientError as e:\n",
    "        print(f'Cannot delete: ' + d['RoleName'])"
   ]
  }
 ],
 "metadata": {
  "kernelspec": {
   "display_name": "base",
   "language": "python",
   "name": "python3"
  },
  "language_info": {
   "codemirror_mode": {
    "name": "ipython",
    "version": 3
   },
   "file_extension": ".py",
   "mimetype": "text/x-python",
   "name": "python",
   "nbconvert_exporter": "python",
   "pygments_lexer": "ipython3",
   "version": "3.10.9"
  }
 },
 "nbformat": 4,
 "nbformat_minor": 2
}
