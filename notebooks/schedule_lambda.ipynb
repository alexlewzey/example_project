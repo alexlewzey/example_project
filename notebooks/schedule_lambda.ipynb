{
 "cells": [
  {
   "cell_type": "markdown",
   "metadata": {},
   "source": [
    "Todo:\n",
    "- spin down handel resource does not exist error\n",
    "- error - cannot delete policy / most delete policy to delete role"
   ]
  },
  {
   "cell_type": "code",
   "execution_count": 15,
   "metadata": {},
   "outputs": [],
   "source": [
    "import boto3\n",
    "import os\n",
    "import zipfile\n",
    "import json\n",
    "from pprint import pprint\n",
    "from botocore.exceptions import ClientError\n",
    "import io\n",
    "import time"
   ]
  },
  {
   "cell_type": "code",
   "execution_count": 16,
   "metadata": {},
   "outputs": [],
   "source": [
    "def lambda_exists(function_name):\n",
    "    try:\n",
    "        function = lambda_client.get_function(FunctionName=function_name)\n",
    "        return True\n",
    "    except ClientError as e:\n",
    "        if e.response['Error']['Code'] == 'ResourceNotFoundException':\n",
    "            return False\n",
    "        raise Exception(e)\n",
    "\n",
    "\n",
    "def list_functions():\n",
    "    for f in lambda_client.list_functions()['Functions']:\n",
    "        print(f['FunctionName'])\n",
    "\n",
    "\n",
    "def delete_role(role_name, delete_policies: bool = True):\n",
    "    policies = iam_client.list_attached_role_policies(RoleName=role_name)['AttachedPolicies']\n",
    "    for policy in policies:\n",
    "        iam_client.detach_role_policy(RoleName=role_name, PolicyArn=policy['PolicyArn'])\n",
    "        if delete_policies:\n",
    "            try:\n",
    "                iam_client.delete_policy(PolicyArn=policy['PolicyArn'])\n",
    "            except ClientError as e:\n",
    "                print(f'Cannot delete: {policy[\"PolicyName\"]}')\n",
    "    iam_client.delete_role(RoleName=role_name)\n",
    "\n",
    "\n",
    "def get_policy(policy_name):\n",
    "    result = [i for i in iam_client.list_policies()['Policies'] if i['PolicyName'] == policy_name][0]\n",
    "    return iam_client.get_policy(PolicyArn=result['Arn'])\n",
    "    \n",
    "\n",
    "def delete_policy(policy_name):\n",
    "    for policy in iam_client.list_policies(Scope='Local')['Policies']:\n",
    "        if policy['PolicyName'] == policy_name:\n",
    "            iam_client.delete_policy(PolicyArn=policy['Arn'])\n",
    "            break\n",
    "\n",
    "\n",
    "def spin_down_resources() -> None:\n",
    "    scheduler_client.delete_schedule(Name=scheduler_name)\n",
    "    delete_role(role_name=invoke_role_name)\n",
    "    delete_role(role_name=role_name)\n",
    "    lambda_client.delete_function(FunctionName=function_name)\n",
    "    delete_policy(policy_name=invoke_policy_name)\n",
    "    delete_policy(policy_name=s3_put_policy)\n",
    "    \n",
    "\n",
    "\n",
    "def delete_bucket(bucket_name):\n",
    "    objects = s3_client.list_objects(Bucket=bucket_name).get('Contents', [])\n",
    "    for obj in objects:\n",
    "        s3_client.delete_object(Bucket=bucket_name, Key=obj['Key'])\n",
    "        print(f'Deleted object: {obj[\"Key\"]}')\n",
    "    s3_client.delete_bucket(Bucket=bucket_name)\n",
    "\n",
    "\n",
    "def bucket_exists(bucket_name):\n",
    "    try:\n",
    "        s3_client.head_bucket(Bucket=bucket_name)\n",
    "        return True\n",
    "    except ClientError as e:\n",
    "        if e.response['Error']['Message'] == 'Not Found':\n",
    "            return False\n",
    "        else:\n",
    "            raise e\n",
    "\n",
    "            \n",
    "def delete_objects(bucket_name):\n",
    "    for o in s3_client.list_objects(Bucket=bucket_name)['Contents']:\n",
    "        s3_client.delete_object(Bucket=bucket_name, Key=o['Key'])\n",
    "        print(f'Delete object: {key}')"
   ]
  },
  {
   "cell_type": "markdown",
   "metadata": {},
   "source": [
    "Defining the clients and names"
   ]
  },
  {
   "cell_type": "code",
   "execution_count": 17,
   "metadata": {},
   "outputs": [],
   "source": [
    "aws_access_key_id = os.environ['AWS_ACCESS_KEY_ID']\n",
    "aws_secret_access_key = os.environ['AWS_SECRET_ACCESS_KEY']\n",
    "aws_region = os.environ['AWS_REGION']\n",
    "credentials = {'region_name':aws_region, 'aws_access_key_id':aws_access_key_id, 'aws_secret_access_key':aws_secret_access_key}\n",
    "\n",
    "lambda_client = boto3.client('lambda', **credentials)\n",
    "events_client = boto3.client('events', **credentials)\n",
    "iam_client = boto3.client('iam', **credentials)\n",
    "scheduler_client = boto3.client('scheduler', **credentials)\n",
    "s3_client = boto3.client('s3', **credentials)\n",
    "\n",
    "# Replace these values with your own\n",
    "function_name = 'HelloWorldLambda'\n",
    "role_name = 'HelloWorldLambdaRole'\n",
    "invoke_role_name = 'InvokeLambdaRole'\n",
    "invoke_policy_name = 'InvokeLambdaPolicy'\n",
    "scheduler_name = 'LambdaEveryMinuteSchedule'\n",
    "bucket_name = 'hello-world-bucket-lambda'\n",
    "s3_put_policy = 'S3PutObjectPolicy'"
   ]
  },
  {
   "cell_type": "markdown",
   "metadata": {},
   "source": [
    "### Create bucket"
   ]
  },
  {
   "cell_type": "code",
   "execution_count": 18,
   "metadata": {},
   "outputs": [
    {
     "name": "stdout",
     "output_type": "stream",
     "text": [
      "Bucket already exists: hello-world-bucket-lambda\n"
     ]
    }
   ],
   "source": [
    "if not bucket_exists(bucket_name):\n",
    "    bucket = s3_client.create_bucket(Bucket=bucket_name, CreateBucketConfiguration={'LocationConstraint': aws_region})\n",
    "else:\n",
    "    print(f'Bucket already exists: {bucket_name}')"
   ]
  },
  {
   "cell_type": "markdown",
   "metadata": {},
   "source": [
    "### Create lambda\n",
    "\n",
    "Create lambda role and policies"
   ]
  },
  {
   "cell_type": "code",
   "execution_count": 19,
   "metadata": {},
   "outputs": [],
   "source": [
    "assume_role_policy_document = {\n",
    "    'Version': '2012-10-17',\n",
    "    'Statement': [\n",
    "        {\n",
    "            'Effect': 'Allow',\n",
    "            'Principal': {\n",
    "                'Service': 'lambda.amazonaws.com'\n",
    "            },\n",
    "            'Action': 'sts:AssumeRole'\n",
    "        }\n",
    "    ]\n",
    "}\n",
    "\n",
    "\n",
    "try:\n",
    "    role = iam_client.get_role(RoleName=role_name)['Role']\n",
    "except Exception:\n",
    "    role = iam_client.create_role(\n",
    "        RoleName=role_name,\n",
    "        AssumeRolePolicyDocument=json.dumps(assume_role_policy_document)\n",
    "    )['Role']\n",
    "    time.sleep(10)\n",
    "\n",
    "res = iam_client.attach_role_policy(\n",
    "    RoleName=role_name,\n",
    "    PolicyArn='arn:aws:iam::aws:policy/service-role/AWSLambdaBasicExecutionRole'\n",
    ")\n"
   ]
  },
  {
   "cell_type": "code",
   "execution_count": 20,
   "metadata": {},
   "outputs": [],
   "source": [
    "s3_policy_document = {\n",
    "    \"Version\": \"2012-10-17\",\n",
    "    \"Statement\": [\n",
    "        {\n",
    "            \"Effect\": \"Allow\",\n",
    "            \"Action\": \"s3:PutObject\",\n",
    "            \"Resource\": f\"arn:aws:s3:::{bucket_name}/*\"\n",
    "        }\n",
    "    ]\n",
    "}\n",
    "\n",
    "res = iam_client.put_role_policy(\n",
    "    RoleName=role_name,\n",
    "    PolicyName=s3_put_policy,\n",
    "    PolicyDocument=json.dumps(s3_policy_document)\n",
    ")"
   ]
  },
  {
   "cell_type": "markdown",
   "metadata": {},
   "source": [
    "Create lambda"
   ]
  },
  {
   "cell_type": "code",
   "execution_count": 21,
   "metadata": {},
   "outputs": [
    {
     "name": "stdout",
     "output_type": "stream",
     "text": [
      "deleted existing lambda: HelloWorldLambda\n"
     ]
    }
   ],
   "source": [
    "with open('lambda_function.py', 'r') as f:\n",
    "    lambda_py = f.read().format(bucket_name=bucket_name)\n",
    "in_memory_zip = io.BytesIO()\n",
    "with zipfile.ZipFile(in_memory_zip, 'w', zipfile.ZIP_DEFLATED) as f:\n",
    " f.writestr('lambda_function.py', lambda_py)\n",
    "in_memory_zip.seek(0)\n",
    "\n",
    "if lambda_exists(function_name):\n",
    "    lambda_client.delete_function(FunctionName=function_name)\n",
    "    print(f'deleted existing lambda: {function_name}')\n",
    "\n",
    "\n",
    "lambda_response = lambda_client.create_function(\n",
    "    FunctionName=function_name,\n",
    "    Runtime='python3.8',\n",
    "    Role=role['Arn'],\n",
    "    Handler='lambda_function.lambda_handler',\n",
    "    Code={'ZipFile': in_memory_zip.read()},\n",
    "    Timeout=10,\n",
    "    MemorySize=128\n",
    ")"
   ]
  },
  {
   "cell_type": "markdown",
   "metadata": {},
   "source": [
    "### Create schedule"
   ]
  },
  {
   "cell_type": "code",
   "execution_count": 22,
   "metadata": {},
   "outputs": [],
   "source": [
    "policy_document = {\n",
    "    \"Version\": \"2012-10-17\",\n",
    "    \"Statement\": [\n",
    "        {\n",
    "            \"Effect\": \"Allow\",\n",
    "            \"Action\": [\"lambda:InvokeFunction\"],\n",
    "            \"Resource\": [\n",
    "                lambda_response['FunctionArn'],\n",
    "                lambda_response['FunctionArn'] + ':*'\n",
    "            ]\n",
    "        }\n",
    "    ]\n",
    "}\n",
    "\n",
    "try:\n",
    "    policy = get_policy(invoke_policy_name)\n",
    "except (ClientError, IndexError) as e:\n",
    "    policy = iam_client.create_policy(\n",
    "        PolicyName=invoke_policy_name,\n",
    "        PolicyDocument=json.dumps(policy_document)\n",
    "    )"
   ]
  },
  {
   "cell_type": "code",
   "execution_count": 23,
   "metadata": {},
   "outputs": [],
   "source": [
    "try:\n",
    "    invoke_role = iam_client.get_role(RoleName=invoke_role_name)\n",
    "except ClientError as e:\n",
    "    assume_role_policy = {\n",
    "    \"Version\": \"2012-10-17\",\n",
    "    \"Statement\": [\n",
    "        {\n",
    "            \"Effect\": \"Allow\",\n",
    "            \"Principal\": {\n",
    "                \"Service\": \"scheduler.amazonaws.com\"\n",
    "            },\n",
    "            \"Action\": \"sts:AssumeRole\"\n",
    "        }\n",
    "    ]\n",
    "    }\n",
    "    invoke_role = iam_client.create_role(RoleName = invoke_role_name, AssumeRolePolicyDocument=json.dumps(assume_role_policy))\n",
    "    time.sleep(10)\n",
    "\n",
    "res = iam_client.attach_role_policy(RoleName=invoke_role_name, PolicyArn=policy['Policy']['Arn'])\n"
   ]
  },
  {
   "cell_type": "code",
   "execution_count": 24,
   "metadata": {},
   "outputs": [],
   "source": [
    "try:\n",
    "    scheduler = scheduler_client.get_schedule(Name=scheduler_name)\n",
    "except ClientError as e:\n",
    "    scheduler = scheduler_client.create_schedule(\n",
    "        Name=scheduler_name,\n",
    "        ScheduleExpression='rate(1 minute)',\n",
    "        State='ENABLED',\n",
    "        Target={\n",
    "            'Arn': lambda_response['FunctionArn'],\n",
    "            'RoleArn': invoke_role['Role']['Arn']\n",
    "        },\n",
    "        FlexibleTimeWindow={\n",
    "            'Mode': 'OFF'\n",
    "        }\n",
    "    )"
   ]
  },
  {
   "cell_type": "code",
   "execution_count": 25,
   "metadata": {},
   "outputs": [
    {
     "name": "stdout",
     "output_type": "stream",
     "text": [
      "Cannot delete: AWSLambdaBasicExecutionRole\n"
     ]
    },
    {
     "ename": "DeleteConflictException",
     "evalue": "An error occurred (DeleteConflict) when calling the DeleteRole operation: Cannot delete entity, must delete policies first.",
     "output_type": "error",
     "traceback": [
      "\u001b[0;31m---------------------------------------------------------------------------\u001b[0m",
      "\u001b[0;31mDeleteConflictException\u001b[0m                   Traceback (most recent call last)",
      "\u001b[1;32m/Users/alexlewzey/repository/example_project/notebooks/schedule_lambda.ipynb Cell 16\u001b[0m line \u001b[0;36m1\n\u001b[0;32m----> <a href='vscode-notebook-cell:/Users/alexlewzey/repository/example_project/notebooks/schedule_lambda.ipynb#X22sZmlsZQ%3D%3D?line=0'>1</a>\u001b[0m spin_down_resources()\n",
      "\u001b[1;32m/Users/alexlewzey/repository/example_project/notebooks/schedule_lambda.ipynb Cell 16\u001b[0m line \u001b[0;36m4\n\u001b[1;32m     <a href='vscode-notebook-cell:/Users/alexlewzey/repository/example_project/notebooks/schedule_lambda.ipynb#X22sZmlsZQ%3D%3D?line=40'>41</a>\u001b[0m scheduler_client\u001b[39m.\u001b[39mdelete_schedule(Name\u001b[39m=\u001b[39mscheduler_name)\n\u001b[1;32m     <a href='vscode-notebook-cell:/Users/alexlewzey/repository/example_project/notebooks/schedule_lambda.ipynb#X22sZmlsZQ%3D%3D?line=41'>42</a>\u001b[0m delete_role(role_name\u001b[39m=\u001b[39minvoke_role_name)\n\u001b[0;32m---> <a href='vscode-notebook-cell:/Users/alexlewzey/repository/example_project/notebooks/schedule_lambda.ipynb#X22sZmlsZQ%3D%3D?line=42'>43</a>\u001b[0m delete_role(role_name\u001b[39m=\u001b[39;49mrole_name)\n\u001b[1;32m     <a href='vscode-notebook-cell:/Users/alexlewzey/repository/example_project/notebooks/schedule_lambda.ipynb#X22sZmlsZQ%3D%3D?line=43'>44</a>\u001b[0m lambda_client\u001b[39m.\u001b[39mdelete_function(FunctionName\u001b[39m=\u001b[39mfunction_name)\n\u001b[1;32m     <a href='vscode-notebook-cell:/Users/alexlewzey/repository/example_project/notebooks/schedule_lambda.ipynb#X22sZmlsZQ%3D%3D?line=44'>45</a>\u001b[0m delete_policy(policy_name\u001b[39m=\u001b[39minvoke_policy_name)\n",
      "\u001b[1;32m/Users/alexlewzey/repository/example_project/notebooks/schedule_lambda.ipynb Cell 16\u001b[0m line \u001b[0;36m2\n\u001b[1;32m     <a href='vscode-notebook-cell:/Users/alexlewzey/repository/example_project/notebooks/schedule_lambda.ipynb#X22sZmlsZQ%3D%3D?line=22'>23</a>\u001b[0m         \u001b[39mexcept\u001b[39;00m ClientError \u001b[39mas\u001b[39;00m e:\n\u001b[1;32m     <a href='vscode-notebook-cell:/Users/alexlewzey/repository/example_project/notebooks/schedule_lambda.ipynb#X22sZmlsZQ%3D%3D?line=23'>24</a>\u001b[0m             \u001b[39mprint\u001b[39m(\u001b[39mf\u001b[39m\u001b[39m'\u001b[39m\u001b[39mCannot delete: \u001b[39m\u001b[39m{\u001b[39;00mpolicy[\u001b[39m\"\u001b[39m\u001b[39mPolicyName\u001b[39m\u001b[39m\"\u001b[39m]\u001b[39m}\u001b[39;00m\u001b[39m'\u001b[39m)\n\u001b[0;32m---> <a href='vscode-notebook-cell:/Users/alexlewzey/repository/example_project/notebooks/schedule_lambda.ipynb#X22sZmlsZQ%3D%3D?line=24'>25</a>\u001b[0m iam_client\u001b[39m.\u001b[39;49mdelete_role(RoleName\u001b[39m=\u001b[39;49mrole_name)\n",
      "File \u001b[0;32m~/anaconda3/lib/python3.10/site-packages/botocore/client.py:553\u001b[0m, in \u001b[0;36mClientCreator._create_api_method.<locals>._api_call\u001b[0;34m(self, *args, **kwargs)\u001b[0m\n\u001b[1;32m    549\u001b[0m     \u001b[39mraise\u001b[39;00m \u001b[39mTypeError\u001b[39;00m(\n\u001b[1;32m    550\u001b[0m         \u001b[39mf\u001b[39m\u001b[39m\"\u001b[39m\u001b[39m{\u001b[39;00mpy_operation_name\u001b[39m}\u001b[39;00m\u001b[39m() only accepts keyword arguments.\u001b[39m\u001b[39m\"\u001b[39m\n\u001b[1;32m    551\u001b[0m     )\n\u001b[1;32m    552\u001b[0m \u001b[39m# The \"self\" in this scope is referring to the BaseClient.\u001b[39;00m\n\u001b[0;32m--> 553\u001b[0m \u001b[39mreturn\u001b[39;00m \u001b[39mself\u001b[39;49m\u001b[39m.\u001b[39;49m_make_api_call(operation_name, kwargs)\n",
      "File \u001b[0;32m~/anaconda3/lib/python3.10/site-packages/botocore/client.py:1009\u001b[0m, in \u001b[0;36mBaseClient._make_api_call\u001b[0;34m(self, operation_name, api_params)\u001b[0m\n\u001b[1;32m   1005\u001b[0m     error_code \u001b[39m=\u001b[39m error_info\u001b[39m.\u001b[39mget(\u001b[39m\"\u001b[39m\u001b[39mQueryErrorCode\u001b[39m\u001b[39m\"\u001b[39m) \u001b[39mor\u001b[39;00m error_info\u001b[39m.\u001b[39mget(\n\u001b[1;32m   1006\u001b[0m         \u001b[39m\"\u001b[39m\u001b[39mCode\u001b[39m\u001b[39m\"\u001b[39m\n\u001b[1;32m   1007\u001b[0m     )\n\u001b[1;32m   1008\u001b[0m     error_class \u001b[39m=\u001b[39m \u001b[39mself\u001b[39m\u001b[39m.\u001b[39mexceptions\u001b[39m.\u001b[39mfrom_code(error_code)\n\u001b[0;32m-> 1009\u001b[0m     \u001b[39mraise\u001b[39;00m error_class(parsed_response, operation_name)\n\u001b[1;32m   1010\u001b[0m \u001b[39melse\u001b[39;00m:\n\u001b[1;32m   1011\u001b[0m     \u001b[39mreturn\u001b[39;00m parsed_response\n",
      "\u001b[0;31mDeleteConflictException\u001b[0m: An error occurred (DeleteConflict) when calling the DeleteRole operation: Cannot delete entity, must delete policies first."
     ]
    }
   ],
   "source": [
    "spin_down_resources()"
   ]
  }
 ],
 "metadata": {
  "kernelspec": {
   "display_name": "base",
   "language": "python",
   "name": "python3"
  },
  "language_info": {
   "codemirror_mode": {
    "name": "ipython",
    "version": 3
   },
   "file_extension": ".py",
   "mimetype": "text/x-python",
   "name": "python",
   "nbconvert_exporter": "python",
   "pygments_lexer": "ipython3",
   "version": "3.10.9"
  }
 },
 "nbformat": 4,
 "nbformat_minor": 2
}
